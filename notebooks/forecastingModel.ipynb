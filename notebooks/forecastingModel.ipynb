{
 "cells": [
  {
   "cell_type": "code",
   "id": "initial_id",
   "metadata": {
    "collapsed": true,
    "ExecuteTime": {
     "end_time": "2024-10-31T13:59:02.976167Z",
     "start_time": "2024-10-31T13:59:02.623002Z"
    }
   },
   "source": [
    "import numpy as np\n",
    "import pandas as pd\n",
    "import yfinance\n",
    "from pymongo import MongoClient\n",
    "\n",
    "# from dags.data_ELT_process import db_pass, db_user, db_name"
   ],
   "outputs": [],
   "execution_count": 12
  },
  {
   "metadata": {
    "ExecuteTime": {
     "end_time": "2024-10-31T13:59:04.486021Z",
     "start_time": "2024-10-31T13:59:04.478783Z"
    }
   },
   "cell_type": "code",
   "source": [
    "# Function to pull data from MongoDB and convert it to DataFrames\n",
    "def pulling_data_db():\n",
    "    # Connect to MongoDB\n",
    "    client = MongoClient('localhost', 27017)\n",
    "    db = client['financeStockData']\n",
    "\n",
    "    collection = db['AAPL_stock_data']\n",
    "    \n",
    "    # Fetch all documents from each collection\n",
    "    dt1 = list(collection.find())     # Convert cursor to list for DataFrame\n",
    " \n",
    "    # Convert list of documents (dictionaries) to pandas DataFrames\n",
    "    appl_data = pd.DataFrame(dt1)\n",
    "    \n",
    "    return appl_data # tesl_fin, goo_fin"
   ],
   "id": "73d00583d686dbcf",
   "outputs": [],
   "execution_count": 13
  },
  {
   "metadata": {
    "ExecuteTime": {
     "end_time": "2024-10-31T13:59:09.534890Z",
     "start_time": "2024-10-31T13:59:09.483613Z"
    }
   },
   "cell_type": "code",
   "source": [
    "fin_data = pulling_data_db()\n",
    "fin_data.head()"
   ],
   "id": "5507e486e084a416",
   "outputs": [
    {
     "data": {
      "text/plain": [
       "                        _id        Date        Open        High         Low  \\\n",
       "0  6717b67af296b51242ed03dd  2023-10-23  170.910004  174.009995  169.929993   \n",
       "1  6717b67af296b51242ed03de  2023-10-24  173.050003  173.669998  171.449997   \n",
       "2  6717b67af296b51242ed03df  2023-10-25  171.880005  173.059998  170.649994   \n",
       "3  6717b67af296b51242ed03e0  2023-10-26  170.369995  171.380005  165.669998   \n",
       "4  6717b67af296b51242ed03e1  2023-10-27  166.910004  168.960007  166.830002   \n",
       "\n",
       "        Close   Adj Close    Volume  \n",
       "0  173.000000  172.119263  55980100  \n",
       "1  173.440002  172.557007  43816600  \n",
       "2  171.100006  170.228943  57157000  \n",
       "3  166.889999  166.040375  70625300  \n",
       "4  168.220001  167.363586  58499100  "
      ],
      "text/html": [
       "<div>\n",
       "<style scoped>\n",
       "    .dataframe tbody tr th:only-of-type {\n",
       "        vertical-align: middle;\n",
       "    }\n",
       "\n",
       "    .dataframe tbody tr th {\n",
       "        vertical-align: top;\n",
       "    }\n",
       "\n",
       "    .dataframe thead th {\n",
       "        text-align: right;\n",
       "    }\n",
       "</style>\n",
       "<table border=\"1\" class=\"dataframe\">\n",
       "  <thead>\n",
       "    <tr style=\"text-align: right;\">\n",
       "      <th></th>\n",
       "      <th>_id</th>\n",
       "      <th>Date</th>\n",
       "      <th>Open</th>\n",
       "      <th>High</th>\n",
       "      <th>Low</th>\n",
       "      <th>Close</th>\n",
       "      <th>Adj Close</th>\n",
       "      <th>Volume</th>\n",
       "    </tr>\n",
       "  </thead>\n",
       "  <tbody>\n",
       "    <tr>\n",
       "      <th>0</th>\n",
       "      <td>6717b67af296b51242ed03dd</td>\n",
       "      <td>2023-10-23</td>\n",
       "      <td>170.910004</td>\n",
       "      <td>174.009995</td>\n",
       "      <td>169.929993</td>\n",
       "      <td>173.000000</td>\n",
       "      <td>172.119263</td>\n",
       "      <td>55980100</td>\n",
       "    </tr>\n",
       "    <tr>\n",
       "      <th>1</th>\n",
       "      <td>6717b67af296b51242ed03de</td>\n",
       "      <td>2023-10-24</td>\n",
       "      <td>173.050003</td>\n",
       "      <td>173.669998</td>\n",
       "      <td>171.449997</td>\n",
       "      <td>173.440002</td>\n",
       "      <td>172.557007</td>\n",
       "      <td>43816600</td>\n",
       "    </tr>\n",
       "    <tr>\n",
       "      <th>2</th>\n",
       "      <td>6717b67af296b51242ed03df</td>\n",
       "      <td>2023-10-25</td>\n",
       "      <td>171.880005</td>\n",
       "      <td>173.059998</td>\n",
       "      <td>170.649994</td>\n",
       "      <td>171.100006</td>\n",
       "      <td>170.228943</td>\n",
       "      <td>57157000</td>\n",
       "    </tr>\n",
       "    <tr>\n",
       "      <th>3</th>\n",
       "      <td>6717b67af296b51242ed03e0</td>\n",
       "      <td>2023-10-26</td>\n",
       "      <td>170.369995</td>\n",
       "      <td>171.380005</td>\n",
       "      <td>165.669998</td>\n",
       "      <td>166.889999</td>\n",
       "      <td>166.040375</td>\n",
       "      <td>70625300</td>\n",
       "    </tr>\n",
       "    <tr>\n",
       "      <th>4</th>\n",
       "      <td>6717b67af296b51242ed03e1</td>\n",
       "      <td>2023-10-27</td>\n",
       "      <td>166.910004</td>\n",
       "      <td>168.960007</td>\n",
       "      <td>166.830002</td>\n",
       "      <td>168.220001</td>\n",
       "      <td>167.363586</td>\n",
       "      <td>58499100</td>\n",
       "    </tr>\n",
       "  </tbody>\n",
       "</table>\n",
       "</div>"
      ]
     },
     "execution_count": 14,
     "metadata": {},
     "output_type": "execute_result"
    }
   ],
   "execution_count": 14
  },
  {
   "metadata": {
    "ExecuteTime": {
     "end_time": "2024-10-31T13:59:19.979281Z",
     "start_time": "2024-10-31T13:59:19.929481Z"
    }
   },
   "cell_type": "code",
   "source": "fin_data.info()",
   "id": "18a3d19abfc54abf",
   "outputs": [
    {
     "name": "stdout",
     "output_type": "stream",
     "text": [
      "<class 'pandas.core.frame.DataFrame'>\n",
      "RangeIndex: 270 entries, 0 to 269\n",
      "Data columns (total 8 columns):\n",
      " #   Column     Non-Null Count  Dtype  \n",
      "---  ------     --------------  -----  \n",
      " 0   _id        270 non-null    object \n",
      " 1   Date       270 non-null    object \n",
      " 2   Open       270 non-null    float64\n",
      " 3   High       270 non-null    float64\n",
      " 4   Low        270 non-null    float64\n",
      " 5   Close      270 non-null    float64\n",
      " 6   Adj Close  270 non-null    float64\n",
      " 7   Volume     270 non-null    int64  \n",
      "dtypes: float64(5), int64(1), object(2)\n",
      "memory usage: 17.0+ KB\n"
     ]
    }
   ],
   "execution_count": 15
  },
  {
   "metadata": {},
   "cell_type": "code",
   "source": [
    "fin_data = fin_data[[\"Date\", \"Adj Close\"]]\n",
    "fin_data.plot(kind='line', title = \"checking for stationarity\");"
   ],
   "id": "2a57de7bbdbaa91a",
   "outputs": [],
   "execution_count": 107
  },
  {
   "metadata": {},
   "cell_type": "code",
   "source": "fin_data.index = pd.to_datetime(fin_data.index)",
   "id": "5d24afcab5084d9d",
   "outputs": [],
   "execution_count": 108
  },
  {
   "metadata": {},
   "cell_type": "code",
   "source": [
    "# Average stock prices per month, week and day\n",
    "weekly_price = fin_data['Adj Close'].resample('W').mean()\n",
    "monthly_price = fin_data['Adj Close'].resample('M').mean()\n",
    "daily_price = fin_data['Adj Close'].resample('D').mean()\n",
    "\n",
    "print(f\"Weekly average price of stock is {weekly_price}\")\n",
    "print(f\"Monthly average price of stock is {monthly_price}\")\n",
    "print(f\"Daily average price of stock is {daily_price}\")"
   ],
   "id": "d0a7b56b5a0964d1",
   "outputs": [],
   "execution_count": 109
  },
  {
   "metadata": {},
   "cell_type": "code",
   "source": [
    "fin_data['Date'] = pd.to_datetime(fin_data['Date'])\n",
    "fin_data['month'] = fin_data['Date'].dt.month\n",
    "fin_data['day'] = fin_data['Date'].dt.day\n",
    "fin_data['year'] = fin_data['Date'].dt.year\n",
    "fin_data.head()"
   ],
   "id": "ff39d8f4b5a0cb74",
   "outputs": [],
   "execution_count": 110
  },
  {
   "metadata": {},
   "cell_type": "code",
   "source": [
    "fin_data = fin_data.drop(columns = ['Date'], axis =1)\n",
    "fin_data.head()"
   ],
   "id": "87f268c48ba5da6d",
   "outputs": [],
   "execution_count": 111
  },
  {
   "metadata": {},
   "cell_type": "code",
   "source": "fin_data.duplicated().sum()",
   "id": "e3375bd2257041bc",
   "outputs": [],
   "execution_count": 112
  },
  {
   "metadata": {},
   "cell_type": "code",
   "source": "fin_data['Adj Close'].describe()",
   "id": "36c643e760df80be",
   "outputs": [],
   "execution_count": 113
  },
  {
   "metadata": {},
   "cell_type": "code",
   "source": "df = fin_data.values.flatten()",
   "id": "1092af47949ffa95",
   "outputs": [],
   "execution_count": 114
  },
  {
   "metadata": {},
   "cell_type": "code",
   "source": [
    "from statsmodels.tsa.stattools import adfuller\n",
    "\n",
    "def adf_test(timeseries):\n",
    "\n",
    "    print('Results of Dickey-Fuller Test:')\n",
    "    adf_test_result = adfuller(timeseries, autolag='AIC')\n",
    "    \n",
    "    adf_output = pd.Series(adf_test_result[0:4], index=['Test Statistic', 'p-value', '#Lags Used', 'Number of Observations Used'])\n",
    "    for key, value in adf_test_result[4].items():\n",
    "        adf_output['Critical Value (%s)' % key] = value\n",
    "    \n",
    "    print(adf_output)\n",
    "\n",
    "    # Interpret the p-value\n",
    "    if adf_output['p-value'] < 0.05:\n",
    "        print(\"\\nConclusion: Reject the null hypothesis. The time series is stationary.\")\n",
    "    else:\n",
    "        print(\"\\nConclusion: Cannot reject the null hypothesis. The time series is non-stationary.\")\n"
   ],
   "id": "9da2f269bcbd26a0",
   "outputs": [],
   "execution_count": 115
  },
  {
   "metadata": {},
   "cell_type": "code",
   "source": "adf_test(df)",
   "id": "dbc88792762e00f9",
   "outputs": [],
   "execution_count": 116
  },
  {
   "metadata": {},
   "cell_type": "code",
   "source": [
    "season_length = 3\n",
    "df_diff = fin_data['Adj Close'].diff(periods=season_length).dropna()  # Adjust season_length accordingly\n",
    "df_diff"
   ],
   "id": "8fa2be7558224797",
   "outputs": [],
   "execution_count": 117
  },
  {
   "metadata": {},
   "cell_type": "code",
   "source": [
    "# df = pd.DataFrame(df_diff)\n",
    "df_diff.plot(kind=\"line\")"
   ],
   "id": "6776d360188bfc7",
   "outputs": [],
   "execution_count": 118
  },
  {
   "metadata": {},
   "cell_type": "code",
   "source": "adf_test(df_diff)",
   "id": "cf9e1d31b2f523e7",
   "outputs": [],
   "execution_count": 119
  },
  {
   "metadata": {},
   "cell_type": "code",
   "source": [
    "df_smoothed = df_diff.rolling(window=2).mean()  # Adjust window size\n",
    "df_smoothed.dropna(inplace=True)"
   ],
   "id": "65f13d3ee6d87b8",
   "outputs": [],
   "execution_count": 120
  },
  {
   "metadata": {},
   "cell_type": "code",
   "source": [
    "# Checking for trend in the time series data\n",
    "from statsmodels.tsa.seasonal import seasonal_decompose\n",
    "import matplotlib.pyplot as plt\n",
    "\n",
    "decomposition = seasonal_decompose(df_smoothed, model='additive', period=12)  # Adjust 'period'\n",
    "\n",
    "# Plot the decomposed components\n",
    "decomposition.plot()\n",
    "plt.show()"
   ],
   "id": "d266ec08bd73fd99",
   "outputs": [],
   "execution_count": 121
  },
  {
   "metadata": {},
   "cell_type": "code",
   "source": "decomposition.trend",
   "id": "d951909c722683e8",
   "outputs": [],
   "execution_count": 122
  },
  {
   "metadata": {},
   "cell_type": "code",
   "source": "df_smoothed.plot(kind='line', title=\"Stationarity plot\");",
   "id": "136e9d84298266cf",
   "outputs": [],
   "execution_count": 123
  },
  {
   "metadata": {},
   "cell_type": "code",
   "source": [
    "# Normalizing data\n",
    "from sklearn.preprocessing import StandardScaler\n",
    "\n",
    "def scaling_data(data):\n",
    "    scale = StandardScaler()\n",
    "    \n",
    "    normalized_data = scale.fit_transform(data)\n",
    "    \n",
    "    return normalized_data"
   ],
   "id": "7b761615889fda91",
   "outputs": [],
   "execution_count": 124
  },
  {
   "metadata": {},
   "cell_type": "code",
   "source": [
    "reshap = np.array(df_smoothed).reshape(-1, 1)\n",
    "scalled = scaling_data(reshap)\n",
    "\n",
    "df = pd.DataFrame(scalled)"
   ],
   "id": "509b99b4774b91b4",
   "outputs": [],
   "execution_count": 125
  },
  {
   "metadata": {},
   "cell_type": "code",
   "source": "df.head()",
   "id": "467006114f66766",
   "outputs": [],
   "execution_count": 126
  },
  {
   "metadata": {},
   "cell_type": "code",
   "source": [
    "X_train = df.loc[0:199, ]\n",
    "X_test = df.loc[199:, ]"
   ],
   "id": "200503a24820824a",
   "outputs": [],
   "execution_count": 127
  },
  {
   "metadata": {},
   "cell_type": "code",
   "source": [
    "print(X_train.shape)\n",
    "print(X_test.shape)"
   ],
   "id": "70e7266b0cd9682b",
   "outputs": [],
   "execution_count": 128
  },
  {
   "metadata": {},
   "cell_type": "code",
   "source": [
    "from tensorflow.keras.models import Sequential\n",
    "from tensorflow.keras.layers import Dense\n",
    "from tensorflow.keras.layers import LSTM"
   ],
   "id": "92eeb143f6c691b7",
   "outputs": [],
   "execution_count": 129
  },
  {
   "metadata": {},
   "cell_type": "code",
   "source": [
    "# Using multi-step forecasting method\n",
    "\n",
    "sequence_length = 30\n",
    "forecast_horizon = 7\n",
    "\n",
    "def create_sequence(data, sequence_length, horizon):\n",
    "    \n",
    "    X, y = [], []\n",
    "    \n",
    "    for x in range(len(data) - sequence_length - horizon +1):\n",
    "        X.append(data[x:x + sequence_length])\n",
    "        y.append(data[x + sequence_length:x+season_length+horizon])\n",
    "    \n",
    "    return np.array(X), np.array(y)"
   ],
   "id": "dc406fea504cf856",
   "outputs": [],
   "execution_count": 130
  },
  {
   "metadata": {},
   "cell_type": "code",
   "source": [
    "# Assigning data to X and Y\n",
    "X, y = create_sequence(X_train, sequence_length, forecast_horizon)"
   ],
   "id": "290ae5dce7659d20",
   "outputs": [],
   "execution_count": 131
  },
  {
   "metadata": {},
   "cell_type": "code",
   "source": [
    "# Splitting the data into train and test using 80% for training and 20% for testing\n",
    "split = int(0.8 * len(X))\n",
    "X_train, y_train = X[:split], y[:split]\n",
    "X_test, y_test = X[split:], y[split:]"
   ],
   "id": "949bc8ab4ec98819",
   "outputs": [],
   "execution_count": 134
  },
  {
   "metadata": {},
   "cell_type": "code",
   "source": [
    "model = Sequential()\n",
    "\n",
    "model.add(LSTM(units=50, return_sequences=True, input_shape=(X_train.shape[1], X_train.shape[2])))\n",
    "model.add(LSTM(units=50))\n",
    "\n",
    "model.add(Dense(y_train.shape[1]))  # Output units match the target dimension\n",
    "\n",
    "model.compile(loss='mean_squared_error', optimizer='adam')\n",
    "\n",
    "model.fit(X_train, y_train, epochs=10, batch_size=32, validation_split=0.1, verbose=1)"
   ],
   "id": "203640fbc73b27d3",
   "outputs": [],
   "execution_count": 135
  },
  {
   "metadata": {
    "ExecuteTime": {
     "end_time": "2024-10-31T08:50:32.702289Z",
     "start_time": "2024-10-31T08:50:32.696749Z"
    }
   },
   "cell_type": "code",
   "source": [
    "import json\n",
    "import psycopg2\n",
    "# Load secrets.json file\n",
    "with open('/home/oem/PycharmProjects/data-eng-task/dags/secret.json') as f:\n",
    "    secrets = json.load(f)\n",
    "\n",
    "# Access secrets\n",
    "db_name = secrets['DB_NAME']\n",
    "db_user = secrets['DB_USER']\n",
    "db_pass = secrets['DB_PASS']"
   ],
   "id": "964f1f7f6c863273",
   "outputs": [],
   "execution_count": 7
  },
  {
   "metadata": {
    "ExecuteTime": {
     "end_time": "2024-10-31T04:43:44.364003Z",
     "start_time": "2024-10-31T04:43:44.352515Z"
    }
   },
   "cell_type": "code",
   "source": [
    "class DatabaseHandler:\n",
    "    def __init__(self, db_name, db_user, db_pass):\n",
    "        self.db_name = db_name\n",
    "        self.db_user = db_user\n",
    "        self.db_pass = db_pass\n",
    "\n",
    "    def connect_postgres(self):\n",
    "        return psycopg2.connect(dbname=self.db_name, user=self.db_user, host=\"localhost\", port=\"5432\",\n",
    "                                password=self.db_pass)\n",
    "\n",
    "    def get_last_saved_date(self, table_name):\n",
    "        conn = self.connect_postgres()\n",
    "        cur = conn.cursor()\n",
    "        cur.execute(f\"SELECT MAX(Date) FROM {table_name};\")\n",
    "        last_date = cur.fetchone()[0]\n",
    "        cur.close()\n",
    "        conn.close()\n",
    "        return last_date\n",
    "\n",
    "    def insert_data_postgres(self, new_data):\n",
    "        conn = self.connect_postgres()\n",
    "        cur = conn.cursor()\n",
    "        insert_query = \"\"\"INSERT INTO apple_stock_data(Date, Open, High, Low, Close, Volume) VALUES(%s, %s, %s, %s, %s, %s)\"\"\"\n",
    "\n",
    "        # Prepare dataset for insertion\n",
    "        dataset = [(row[\"Date\"], row[\"Open\"], row[\"High\"], row[\"Low\"], row[\"Close\"], row[\"Volume\"]) for row in new_data]\n",
    "        cur.executemany(insert_query, dataset)  # Insert all at once\n",
    "        conn.commit()  # Commit the transaction\n",
    "        print(f\"{len(dataset)} records inserted into apple_stock_data.\")\n",
    "\n",
    "        cur.close()\n",
    "        conn.close()\n",
    "    "
   ],
   "id": "735e2ca49ad69712",
   "outputs": [],
   "execution_count": 5
  },
  {
   "metadata": {
    "ExecuteTime": {
     "end_time": "2024-10-31T08:55:50.460315Z",
     "start_time": "2024-10-31T08:55:50.457350Z"
    }
   },
   "cell_type": "code",
   "source": "",
   "id": "65d02a8fefe7c3e1",
   "outputs": [],
   "execution_count": null
  },
  {
   "metadata": {},
   "cell_type": "code",
   "outputs": [],
   "execution_count": null,
   "source": "",
   "id": "abac592c4ffdfc66"
  }
 ],
 "metadata": {
  "kernelspec": {
   "display_name": "Python 3",
   "language": "python",
   "name": "python3"
  },
  "language_info": {
   "codemirror_mode": {
    "name": "ipython",
    "version": 2
   },
   "file_extension": ".py",
   "mimetype": "text/x-python",
   "name": "python",
   "nbconvert_exporter": "python",
   "pygments_lexer": "ipython2",
   "version": "2.7.6"
  }
 },
 "nbformat": 4,
 "nbformat_minor": 5
}

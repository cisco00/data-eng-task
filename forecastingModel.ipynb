{
 "cells": [
  {
   "cell_type": "code",
   "id": "initial_id",
   "metadata": {
    "collapsed": true,
    "ExecuteTime": {
     "end_time": "2024-10-18T09:23:30.094049Z",
     "start_time": "2024-10-18T09:23:30.083786Z"
    }
   },
   "source": [
    "import numpy as np\n",
    "import pandas as pd\n",
    "from boto3 import client\n",
    "from pymongo import MongoClient\n",
    "from datetime import datetime, timedelta\n",
    "from sqlalchemy.orm.collections import collection"
   ],
   "outputs": [],
   "execution_count": 15
  },
  {
   "metadata": {
    "ExecuteTime": {
     "end_time": "2024-10-18T09:23:38.437196Z",
     "start_time": "2024-10-18T09:23:38.428522Z"
    }
   },
   "cell_type": "code",
   "source": [
    "def pulling_data_db():\n",
    "    \n",
    "    client = MongoClient('localhost', 27017)\n",
    "    db = client['financeStockData']\n",
    "    collection = db['stockData']\n",
    "    table = []\n",
    "    \n",
    "    query1 = {'Date': datetime(2024, 1, 2)}\n",
    "    dt = collection.find(query1)\n",
    "    \n",
    "    for data in dt:\n",
    "        table.append(data)\n",
    " \n",
    "    fin_data = pd.DataFrame(table)\n",
    "    return fin_data"
   ],
   "id": "73d00583d686dbcf",
   "outputs": [],
   "execution_count": 16
  },
  {
   "metadata": {
    "ExecuteTime": {
     "end_time": "2024-10-18T09:23:41.489545Z",
     "start_time": "2024-10-18T09:23:41.467469Z"
    }
   },
   "cell_type": "code",
   "source": [
    "df = pulling_data_db()\n",
    "df"
   ],
   "id": "18fe5c05e3ecd2a8",
   "outputs": [
    {
     "data": {
      "text/plain": [
       "Empty DataFrame\n",
       "Columns: []\n",
       "Index: []"
      ],
      "text/html": [
       "<div>\n",
       "<style scoped>\n",
       "    .dataframe tbody tr th:only-of-type {\n",
       "        vertical-align: middle;\n",
       "    }\n",
       "\n",
       "    .dataframe tbody tr th {\n",
       "        vertical-align: top;\n",
       "    }\n",
       "\n",
       "    .dataframe thead th {\n",
       "        text-align: right;\n",
       "    }\n",
       "</style>\n",
       "<table border=\"1\" class=\"dataframe\">\n",
       "  <thead>\n",
       "    <tr style=\"text-align: right;\">\n",
       "      <th></th>\n",
       "    </tr>\n",
       "  </thead>\n",
       "  <tbody>\n",
       "  </tbody>\n",
       "</table>\n",
       "</div>"
      ]
     },
     "execution_count": 17,
     "metadata": {},
     "output_type": "execute_result"
    }
   ],
   "execution_count": 17
  },
  {
   "metadata": {},
   "cell_type": "code",
   "outputs": [],
   "execution_count": null,
   "source": "query1 = {'Date': '2024-01-02'}",
   "id": "5507e486e084a416"
  }
 ],
 "metadata": {
  "kernelspec": {
   "display_name": "Python 3",
   "language": "python",
   "name": "python3"
  },
  "language_info": {
   "codemirror_mode": {
    "name": "ipython",
    "version": 2
   },
   "file_extension": ".py",
   "mimetype": "text/x-python",
   "name": "python",
   "nbconvert_exporter": "python",
   "pygments_lexer": "ipython2",
   "version": "2.7.6"
  }
 },
 "nbformat": 4,
 "nbformat_minor": 5
}

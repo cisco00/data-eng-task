{
 "cells": [
  {
   "cell_type": "code",
   "id": "initial_id",
   "metadata": {
    "collapsed": true,
    "ExecuteTime": {
     "end_time": "2024-10-21T14:02:02.841442Z",
     "start_time": "2024-10-21T14:02:02.830052Z"
    }
   },
   "source": [
    "import numpy as np\n",
    "import pandas as pd\n",
    "from pymongo import MongoClient\n",
    "from datetime import datetime, timedelta"
   ],
   "outputs": [],
   "execution_count": 5
  },
  {
   "metadata": {
    "ExecuteTime": {
     "end_time": "2024-10-21T13:26:52.838734Z",
     "start_time": "2024-10-21T13:26:52.818043Z"
    }
   },
   "cell_type": "code",
   "source": [
    "def pulling_data_db():\n",
    "    client = MongoClient('localhost', 27017)\n",
    "    db = client['financeStockData']\n",
    "    collection = db['stockData']\n",
    "    \n",
    "    dt = collection.find()\n",
    " \n",
    "    fin_data = pd.DataFrame(dt)\n",
    "    return fin_data"
   ],
   "id": "73d00583d686dbcf",
   "outputs": [],
   "execution_count": 4
  },
  {
   "metadata": {
    "ExecuteTime": {
     "end_time": "2024-10-21T13:26:56.288992Z",
     "start_time": "2024-10-21T13:26:56.078948Z"
    }
   },
   "cell_type": "code",
   "source": [
    "df = pulling_data_db()\n",
    "df"
   ],
   "id": "18fe5c05e3ecd2a8",
   "outputs": [
    {
     "data": {
      "text/plain": [
       "Empty DataFrame\n",
       "Columns: []\n",
       "Index: []"
      ],
      "text/html": [
       "<div>\n",
       "<style scoped>\n",
       "    .dataframe tbody tr th:only-of-type {\n",
       "        vertical-align: middle;\n",
       "    }\n",
       "\n",
       "    .dataframe tbody tr th {\n",
       "        vertical-align: top;\n",
       "    }\n",
       "\n",
       "    .dataframe thead th {\n",
       "        text-align: right;\n",
       "    }\n",
       "</style>\n",
       "<table border=\"1\" class=\"dataframe\">\n",
       "  <thead>\n",
       "    <tr style=\"text-align: right;\">\n",
       "      <th></th>\n",
       "    </tr>\n",
       "  </thead>\n",
       "  <tbody>\n",
       "  </tbody>\n",
       "</table>\n",
       "</div>"
      ]
     },
     "execution_count": 5,
     "metadata": {},
     "output_type": "execute_result"
    }
   ],
   "execution_count": 5
  },
  {
   "metadata": {
    "ExecuteTime": {
     "end_time": "2024-10-21T14:09:12.279795Z",
     "start_time": "2024-10-21T14:09:12.238695Z"
    }
   },
   "cell_type": "code",
   "source": [
    "from pymongo import MongoClient\n",
    "import pandas as pd\n",
    "\n",
    "# Connect to MongoDB\n",
    "client = MongoClient('localhost', 27017)\n",
    "db = client['financeStockData']\n",
    "collection = db['stock_data']\n",
    "\n",
    "# Retrieve data from MongoDB collection\n",
    "data = collection.find()\n",
    "\n",
    "# Convert MongoDB cursor to a list of dictionaries\n",
    "data_list = list(data)\n",
    "\n",
    "df = pd.DataFrame(data_list)\n",
    "df.head()\n"
   ],
   "id": "5507e486e084a416",
   "outputs": [
    {
     "data": {
      "text/plain": [
       "                        _id        Open        High         Low       Close  \\\n",
       "0  670fce3a0f9694709cdfea07  187.149994  188.440002  183.889999  185.639999   \n",
       "1  670fce3a0f9694709cdfea08  184.220001  185.880005  183.429993  184.250000   \n",
       "2  670fce3a0f9694709cdfea09  182.149994  183.089996  180.880005  181.910004   \n",
       "3  670fce3a0f9694709cdfea0a  181.990005  182.759995  180.169998  181.179993   \n",
       "4  670fce3a0f9694709cdfea0b  182.089996  185.600006  181.500000  185.559998   \n",
       "\n",
       "    Adj Close    Volume  \n",
       "0  184.938217  82488700  \n",
       "1  183.553467  58414500  \n",
       "2  181.222336  71983600  \n",
       "3  180.495071  62303300  \n",
       "4  184.858521  59144500  "
      ],
      "text/html": [
       "<div>\n",
       "<style scoped>\n",
       "    .dataframe tbody tr th:only-of-type {\n",
       "        vertical-align: middle;\n",
       "    }\n",
       "\n",
       "    .dataframe tbody tr th {\n",
       "        vertical-align: top;\n",
       "    }\n",
       "\n",
       "    .dataframe thead th {\n",
       "        text-align: right;\n",
       "    }\n",
       "</style>\n",
       "<table border=\"1\" class=\"dataframe\">\n",
       "  <thead>\n",
       "    <tr style=\"text-align: right;\">\n",
       "      <th></th>\n",
       "      <th>_id</th>\n",
       "      <th>Open</th>\n",
       "      <th>High</th>\n",
       "      <th>Low</th>\n",
       "      <th>Close</th>\n",
       "      <th>Adj Close</th>\n",
       "      <th>Volume</th>\n",
       "    </tr>\n",
       "  </thead>\n",
       "  <tbody>\n",
       "    <tr>\n",
       "      <th>0</th>\n",
       "      <td>670fce3a0f9694709cdfea07</td>\n",
       "      <td>187.149994</td>\n",
       "      <td>188.440002</td>\n",
       "      <td>183.889999</td>\n",
       "      <td>185.639999</td>\n",
       "      <td>184.938217</td>\n",
       "      <td>82488700</td>\n",
       "    </tr>\n",
       "    <tr>\n",
       "      <th>1</th>\n",
       "      <td>670fce3a0f9694709cdfea08</td>\n",
       "      <td>184.220001</td>\n",
       "      <td>185.880005</td>\n",
       "      <td>183.429993</td>\n",
       "      <td>184.250000</td>\n",
       "      <td>183.553467</td>\n",
       "      <td>58414500</td>\n",
       "    </tr>\n",
       "    <tr>\n",
       "      <th>2</th>\n",
       "      <td>670fce3a0f9694709cdfea09</td>\n",
       "      <td>182.149994</td>\n",
       "      <td>183.089996</td>\n",
       "      <td>180.880005</td>\n",
       "      <td>181.910004</td>\n",
       "      <td>181.222336</td>\n",
       "      <td>71983600</td>\n",
       "    </tr>\n",
       "    <tr>\n",
       "      <th>3</th>\n",
       "      <td>670fce3a0f9694709cdfea0a</td>\n",
       "      <td>181.990005</td>\n",
       "      <td>182.759995</td>\n",
       "      <td>180.169998</td>\n",
       "      <td>181.179993</td>\n",
       "      <td>180.495071</td>\n",
       "      <td>62303300</td>\n",
       "    </tr>\n",
       "    <tr>\n",
       "      <th>4</th>\n",
       "      <td>670fce3a0f9694709cdfea0b</td>\n",
       "      <td>182.089996</td>\n",
       "      <td>185.600006</td>\n",
       "      <td>181.500000</td>\n",
       "      <td>185.559998</td>\n",
       "      <td>184.858521</td>\n",
       "      <td>59144500</td>\n",
       "    </tr>\n",
       "  </tbody>\n",
       "</table>\n",
       "</div>"
      ]
     },
     "execution_count": 10,
     "metadata": {},
     "output_type": "execute_result"
    }
   ],
   "execution_count": 10
  },
  {
   "metadata": {},
   "cell_type": "code",
   "outputs": [],
   "execution_count": null,
   "source": "",
   "id": "253618633f2459a5"
  }
 ],
 "metadata": {
  "kernelspec": {
   "display_name": "Python 3",
   "language": "python",
   "name": "python3"
  },
  "language_info": {
   "codemirror_mode": {
    "name": "ipython",
    "version": 2
   },
   "file_extension": ".py",
   "mimetype": "text/x-python",
   "name": "python",
   "nbconvert_exporter": "python",
   "pygments_lexer": "ipython2",
   "version": "2.7.6"
  }
 },
 "nbformat": 4,
 "nbformat_minor": 5
}

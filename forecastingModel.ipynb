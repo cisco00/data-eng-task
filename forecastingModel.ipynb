{
 "cells": [
  {
   "cell_type": "code",
   "id": "initial_id",
   "metadata": {
    "collapsed": true,
    "ExecuteTime": {
     "end_time": "2024-10-22T13:49:47.881466Z",
     "start_time": "2024-10-22T13:49:47.864493Z"
    }
   },
   "source": [
    "import numpy as np\n",
    "import pandas as pd\n",
    "from pymongo import MongoClient\n",
    "from datetime import datetime, timedelta\n",
    "import yfinance as yf"
   ],
   "outputs": [],
   "execution_count": 22
  },
  {
   "metadata": {
    "ExecuteTime": {
     "end_time": "2024-10-22T15:02:23.893651Z",
     "start_time": "2024-10-22T15:02:23.822937Z"
    }
   },
   "cell_type": "code",
   "source": [
    "import pandas as pd\n",
    "from pymongo import MongoClient\n",
    "\n",
    "# Function to pull data from MongoDB and convert it to DataFrames\n",
    "def pulling_data_db():\n",
    "    # Connect to MongoDB\n",
    "    client = MongoClient('localhost', 27017)\n",
    "    db = client['financeStockData']\n",
    "    \n",
    "    # Collections for different stocks\n",
    "    collection = db['stock_data']         # AAPL collection\n",
    "    collection_2 = db['Tesla_stock_data'] # Tesla collection\n",
    "    collection_3 = db[\"Googl_stock_data\"] # Alphabet collection\n",
    "    \n",
    "    # Fetch all documents from each collection\n",
    "    dt1 = list(collection.find())     # Convert cursor to list for DataFrame\n",
    "    dt2 = list(collection_2.find())   # Convert cursor to list for DataFrame\n",
    "    dt3 = list(collection_3.find())   # Convert cursor to list for DataFrame\n",
    " \n",
    "    # Convert list of documents (dictionaries) to pandas DataFrames\n",
    "    fin_data = pd.DataFrame(dt1)\n",
    "    tesl_fin = pd.DataFrame(dt2)\n",
    "    goo_fin = pd.DataFrame(dt3)\n",
    "    \n",
    "    return fin_data, tesl_fin, goo_fin\n",
    "\n",
    "# Example usage\n",
    "fin_data, tesl_fin, goo_fin = pulling_data_db()\n",
    "\n",
    "# To check the result\n",
    "print(fin_data.head())\n",
    "print(tesl_fin.head())\n",
    "print(goo_fin.head())\n"
   ],
   "id": "73d00583d686dbcf",
   "outputs": [
    {
     "name": "stdout",
     "output_type": "stream",
     "text": [
      "                        _id        Open        High         Low       Close  \\\n",
      "0  670fce3a0f9694709cdfea07  187.149994  188.440002  183.889999  185.639999   \n",
      "1  670fce3a0f9694709cdfea08  184.220001  185.880005  183.429993  184.250000   \n",
      "2  670fce3a0f9694709cdfea09  182.149994  183.089996  180.880005  181.910004   \n",
      "3  670fce3a0f9694709cdfea0a  181.990005  182.759995  180.169998  181.179993   \n",
      "4  670fce3a0f9694709cdfea0b  182.089996  185.600006  181.500000  185.559998   \n",
      "\n",
      "    Adj Close    Volume  \n",
      "0  184.938217  82488700  \n",
      "1  183.553467  58414500  \n",
      "2  181.222336  71983600  \n",
      "3  180.495071  62303300  \n",
      "4  184.858521  59144500  \n",
      "Empty DataFrame\n",
      "Columns: []\n",
      "Index: []\n",
      "Empty DataFrame\n",
      "Columns: []\n",
      "Index: []\n"
     ]
    }
   ],
   "execution_count": 26
  },
  {
   "metadata": {
    "ExecuteTime": {
     "end_time": "2024-10-22T09:04:27.611377Z",
     "start_time": "2024-10-22T09:04:27.602328Z"
    }
   },
   "cell_type": "code",
   "source": "",
   "id": "5507e486e084a416",
   "outputs": [],
   "execution_count": null
  },
  {
   "metadata": {
    "ExecuteTime": {
     "end_time": "2024-10-22T15:02:19.922215Z",
     "start_time": "2024-10-22T15:02:19.907061Z"
    }
   },
   "cell_type": "code",
   "source": [
    "def data_retrieval(ticker, start_date, end_date):\n",
    "    ticker = ticker  # Example: Apple stock ticker\n",
    "    stock_data = yf.download(ticker, start=start_date.strftime(\"%Y-%m-%d\"), end=end_date.strftime(\"%Y-%m-%d\"))\n",
    "    stock_data.reset_index(inplace=True)\n",
    "    data = stock_data.reset_index().to_dict('records')  # Convert DataFrame to list of dictionaries\n",
    "    return data"
   ],
   "id": "253618633f2459a5",
   "outputs": [],
   "execution_count": 25
  },
  {
   "metadata": {},
   "cell_type": "code",
   "outputs": [],
   "execution_count": null,
   "source": "",
   "id": "18a3d19abfc54abf"
  }
 ],
 "metadata": {
  "kernelspec": {
   "display_name": "Python 3",
   "language": "python",
   "name": "python3"
  },
  "language_info": {
   "codemirror_mode": {
    "name": "ipython",
    "version": 2
   },
   "file_extension": ".py",
   "mimetype": "text/x-python",
   "name": "python",
   "nbconvert_exporter": "python",
   "pygments_lexer": "ipython2",
   "version": "2.7.6"
  }
 },
 "nbformat": 4,
 "nbformat_minor": 5
}
